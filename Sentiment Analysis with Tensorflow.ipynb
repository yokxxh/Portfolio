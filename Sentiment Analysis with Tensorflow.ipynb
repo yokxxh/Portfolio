{
 "cells": [
  {
   "cell_type": "markdown",
   "id": "ed27d216-f69c-4b72-ac6f-fe3ab2a53d47",
   "metadata": {},
   "source": [
    "# Sentiment Analysis"
   ]
  },
  {
   "cell_type": "markdown",
   "id": "8bf37d23-15bd-4d77-a22c-54cd5691b710",
   "metadata": {},
   "source": [
    "## Objective"
   ]
  },
  {
   "cell_type": "markdown",
   "id": "354d4f19-6127-4d9c-b65b-b35421342c2b",
   "metadata": {},
   "source": [
    "To do Sentiment Analysis, with the relatively popular imdb dataset.\n",
    "\n",
    "In this notebook, we will build a basic model to classify text into positive and negative sentiment classificiations."
   ]
  },
  {
   "cell_type": "markdown",
   "id": "748b20b8-c3f2-4a18-bebe-1b774b7e56af",
   "metadata": {},
   "source": [
    "#### About the data set:"
   ]
  },
  {
   "cell_type": "markdown",
   "id": "31cb7707-17cb-44ef-88da-0f4b748c3fc2",
   "metadata": {},
   "source": [
    "IMDB dataset having 50K movie reviews for natural language processing or Text analytics.\n",
    "This is a dataset for binary sentiment classification containing substantially more data than previous benchmark datasets. \n",
    "\n",
    "You can find the dataset at [Kaggle](https://www.kaggle.com/datasets/lakshmi25npathi/imdb-dataset-of-50k-movie-reviews), [Stanford repo.](https://ai.stanford.edu/~amaas/data/sentiment/)"
   ]
  },
  {
   "cell_type": "markdown",
   "id": "82e74d63-4cd8-420e-b95c-b6277c6adfec",
   "metadata": {},
   "source": [
    "#### Importing required libraries"
   ]
  },
  {
   "cell_type": "code",
   "execution_count": 1,
   "id": "58abdcd8-ca25-4151-a262-98af2efff710",
   "metadata": {},
   "outputs": [],
   "source": [
    "import numpy as np\n",
    "import pandas as pd\n",
    "\n",
    "from tensorflow.keras.models import Sequential\n",
    "from tensorflow.keras.layers import Dense, Embedding, GlobalAveragePooling1D\n",
    "from tensorflow.keras.preprocessing.sequence import pad_sequences\n",
    "from tensorflow.keras.preprocessing.text import Tokenizer\n",
    "\n",
    "import matplotlib.pyplot as plt\n",
    "%matplotlib inline"
   ]
  },
  {
   "cell_type": "code",
   "execution_count": 2,
   "id": "3e77bd39-893e-4c42-8bab-3a45b405f459",
   "metadata": {},
   "outputs": [],
   "source": [
    "#PARAMETERS\n",
    "vocab_size= 10000\n",
    "max_len = 250\n",
    "embd_dim = 15"
   ]
  },
  {
   "cell_type": "markdown",
   "id": "84e6efbe-da3b-4c2d-ab56-2110fbed74ec",
   "metadata": {},
   "source": [
    "#### Loading the dataset"
   ]
  },
  {
   "cell_type": "code",
   "execution_count": 3,
   "id": "33c72dc8-c658-4327-871f-d3e2b7b8f64a",
   "metadata": {},
   "outputs": [],
   "source": [
    "from tensorflow.keras.datasets import imdb\n",
    "\n",
    "(x_train, y_train), (x_test, y_test) = imdb.load_data(num_words=vocab_size)"
   ]
  },
  {
   "cell_type": "code",
   "execution_count": 4,
   "id": "d09483ea-1566-4682-8488-e591c2bd67aa",
   "metadata": {},
   "outputs": [],
   "source": [
    "x_train = pad_sequences(x_train, maxlen=max_len)\n",
    "x_test = pad_sequences(x_test, maxlen=max_len)"
   ]
  },
  {
   "cell_type": "markdown",
   "id": "5500b932-9092-4f47-9839-bd55dd1271e6",
   "metadata": {},
   "source": [
    "#### Building the model"
   ]
  },
  {
   "cell_type": "code",
   "execution_count": 6,
   "id": "680e9b61-817b-4c2c-b06a-c9b93d69d72f",
   "metadata": {},
   "outputs": [],
   "source": [
    "model = Sequential([\n",
    "    Embedding(input_dim=vocab_size, output_dim=32, input_length=max_len),\n",
    "    GlobalAveragePooling1D(),\n",
    "    Dense(16, activation='relu'),\n",
    "    Dense(1, activation='sigmoid')\n",
    "])\n",
    "\n",
    "model.compile(optimizer='adam', loss='binary_crossentropy', metrics=['accuracy'])"
   ]
  },
  {
   "cell_type": "code",
   "execution_count": 7,
   "id": "c8dfe7bc-7460-496c-969c-b79f905c7779",
   "metadata": {},
   "outputs": [
    {
     "name": "stdout",
     "output_type": "stream",
     "text": [
      "Epoch 1/15\n",
      "\u001b[1m40/40\u001b[0m \u001b[32m━━━━━━━━━━━━━━━━━━━━\u001b[0m\u001b[37m\u001b[0m \u001b[1m1s\u001b[0m 17ms/step - accuracy: 0.5444 - loss: 0.6910 - val_accuracy: 0.6876 - val_loss: 0.6780\n",
      "Epoch 2/15\n",
      "\u001b[1m40/40\u001b[0m \u001b[32m━━━━━━━━━━━━━━━━━━━━\u001b[0m\u001b[37m\u001b[0m \u001b[1m1s\u001b[0m 14ms/step - accuracy: 0.6499 - loss: 0.6712 - val_accuracy: 0.7514 - val_loss: 0.6391\n",
      "Epoch 3/15\n",
      "\u001b[1m40/40\u001b[0m \u001b[32m━━━━━━━━━━━━━━━━━━━━\u001b[0m\u001b[37m\u001b[0m \u001b[1m1s\u001b[0m 15ms/step - accuracy: 0.7442 - loss: 0.6259 - val_accuracy: 0.7738 - val_loss: 0.5727\n",
      "Epoch 4/15\n",
      "\u001b[1m40/40\u001b[0m \u001b[32m━━━━━━━━━━━━━━━━━━━━\u001b[0m\u001b[37m\u001b[0m \u001b[1m1s\u001b[0m 14ms/step - accuracy: 0.7972 - loss: 0.5532 - val_accuracy: 0.8114 - val_loss: 0.4959\n",
      "Epoch 5/15\n",
      "\u001b[1m40/40\u001b[0m \u001b[32m━━━━━━━━━━━━━━━━━━━━\u001b[0m\u001b[37m\u001b[0m \u001b[1m1s\u001b[0m 14ms/step - accuracy: 0.8270 - loss: 0.4751 - val_accuracy: 0.8190 - val_loss: 0.4367\n",
      "Epoch 6/15\n",
      "\u001b[1m40/40\u001b[0m \u001b[32m━━━━━━━━━━━━━━━━━━━━\u001b[0m\u001b[37m\u001b[0m \u001b[1m1s\u001b[0m 16ms/step - accuracy: 0.8339 - loss: 0.4153 - val_accuracy: 0.8498 - val_loss: 0.3909\n",
      "Epoch 7/15\n",
      "\u001b[1m40/40\u001b[0m \u001b[32m━━━━━━━━━━━━━━━━━━━━\u001b[0m\u001b[37m\u001b[0m \u001b[1m1s\u001b[0m 14ms/step - accuracy: 0.8628 - loss: 0.3670 - val_accuracy: 0.8528 - val_loss: 0.3669\n",
      "Epoch 8/15\n",
      "\u001b[1m40/40\u001b[0m \u001b[32m━━━━━━━━━━━━━━━━━━━━\u001b[0m\u001b[37m\u001b[0m \u001b[1m1s\u001b[0m 15ms/step - accuracy: 0.8694 - loss: 0.3404 - val_accuracy: 0.8622 - val_loss: 0.3431\n",
      "Epoch 9/15\n",
      "\u001b[1m40/40\u001b[0m \u001b[32m━━━━━━━━━━━━━━━━━━━━\u001b[0m\u001b[37m\u001b[0m \u001b[1m1s\u001b[0m 15ms/step - accuracy: 0.8848 - loss: 0.3058 - val_accuracy: 0.8614 - val_loss: 0.3340\n",
      "Epoch 10/15\n",
      "\u001b[1m40/40\u001b[0m \u001b[32m━━━━━━━━━━━━━━━━━━━━\u001b[0m\u001b[37m\u001b[0m \u001b[1m1s\u001b[0m 14ms/step - accuracy: 0.8904 - loss: 0.2913 - val_accuracy: 0.8550 - val_loss: 0.3342\n",
      "Epoch 11/15\n",
      "\u001b[1m40/40\u001b[0m \u001b[32m━━━━━━━━━━━━━━━━━━━━\u001b[0m\u001b[37m\u001b[0m \u001b[1m1s\u001b[0m 14ms/step - accuracy: 0.8897 - loss: 0.2784 - val_accuracy: 0.8568 - val_loss: 0.3282\n",
      "Epoch 12/15\n",
      "\u001b[1m40/40\u001b[0m \u001b[32m━━━━━━━━━━━━━━━━━━━━\u001b[0m\u001b[37m\u001b[0m \u001b[1m1s\u001b[0m 15ms/step - accuracy: 0.9031 - loss: 0.2584 - val_accuracy: 0.8700 - val_loss: 0.3118\n",
      "Epoch 13/15\n",
      "\u001b[1m40/40\u001b[0m \u001b[32m━━━━━━━━━━━━━━━━━━━━\u001b[0m\u001b[37m\u001b[0m \u001b[1m1s\u001b[0m 15ms/step - accuracy: 0.9067 - loss: 0.2461 - val_accuracy: 0.8818 - val_loss: 0.2944\n",
      "Epoch 14/15\n",
      "\u001b[1m40/40\u001b[0m \u001b[32m━━━━━━━━━━━━━━━━━━━━\u001b[0m\u001b[37m\u001b[0m \u001b[1m1s\u001b[0m 15ms/step - accuracy: 0.9145 - loss: 0.2333 - val_accuracy: 0.8820 - val_loss: 0.2917\n",
      "Epoch 15/15\n",
      "\u001b[1m40/40\u001b[0m \u001b[32m━━━━━━━━━━━━━━━━━━━━\u001b[0m\u001b[37m\u001b[0m \u001b[1m1s\u001b[0m 15ms/step - accuracy: 0.9129 - loss: 0.2274 - val_accuracy: 0.8786 - val_loss: 0.2914\n"
     ]
    }
   ],
   "source": [
    "history = model.fit(x_train, y_train, epochs=15, batch_size=512, validation_split=0.2, verbose=1)"
   ]
  },
  {
   "cell_type": "markdown",
   "id": "274ede9e-b540-4cac-917a-352c403f4ad7",
   "metadata": {},
   "source": [
    "#### Model Evaluation"
   ]
  },
  {
   "cell_type": "code",
   "execution_count": 8,
   "id": "11bd9458-8e40-400c-a3f2-588507dd3037",
   "metadata": {},
   "outputs": [
    {
     "name": "stdout",
     "output_type": "stream",
     "text": [
      "Test loss : 0.2959 \n",
      "Test Accuracy:  0.8763\n"
     ]
    }
   ],
   "source": [
    "results = model.evaluate(x_test, y_test, verbose=False)\n",
    "print(f\"Test loss : {results[0]:.4f} \\nTest Accuracy:  {results[1]:.4f}\")"
   ]
  },
  {
   "cell_type": "code",
   "execution_count": 9,
   "id": "9d405435-ec01-4b66-adf0-b9ad2a5e699c",
   "metadata": {},
   "outputs": [
    {
     "data": {
      "image/png": "[encoded data removed]",
      "text/plain": [
       "<Figure size 640x480 with 1 Axes>"
      ]
     },
     "metadata": {},
     "output_type": "display_data"
    }
   ],
   "source": [
    "plt.plot(history.history['accuracy'], label='Training')\n",
    "plt.plot(history.history['val_accuracy'], label='Validation')\n",
    "plt.xlabel('Epochs')\n",
    "plt.ylabel('Accuracy')\n",
    "plt.legend()\n",
    "plt.grid(True)\n",
    "plt.show()"
   ]
  },
  {
   "cell_type": "markdown",
   "id": "9b292933-dbf5-4065-b8ed-78f683507d24",
   "metadata": {},
   "source": [
    "#### Classifying our own reviews"
   ]
  },
  {
   "cell_type": "code",
   "execution_count": 10,
   "id": "2443f73f-9ba9-4779-82a0-3ea1faa9d4d6",
   "metadata": {},
   "outputs": [],
   "source": [
    "word_index = imdb.get_word_index()\n",
    "word_index = {k : (v+3) for k, v in word_index.items()}"
   ]
  },
  {
   "cell_type": "code",
   "execution_count": 11,
   "id": "4e776f00-9bf6-4aa4-8977-a202cbaf3acf",
   "metadata": {},
   "outputs": [],
   "source": [
    "reverse_word_index = dict([(value, key) for (key, value) in word_index.items()])\n",
    "\n",
    "def encode_review(text):\n",
    "    tokens = text.lower().split()\n",
    "    encoded = [1]\n",
    "    for word in tokens:\n",
    "        if word in word_index:\n",
    "            encoded.append(word_index[word])\n",
    "        else:\n",
    "            encoded.append(2)\n",
    "    return encoded"
   ]
  },
  {
   "cell_type": "code",
   "execution_count": 12,
   "id": "7294f24e-9ba0-45b0-9cb2-2f6b9b25d86b",
   "metadata": {},
   "outputs": [],
   "source": [
    "def predict_sentiment():\n",
    "    review = str(input(\"Enter your review: \"))\n",
    "    encoded_review = encode_review(review)\n",
    "    padded_review = pad_sequences([encoded_review], value=0, padding='post', maxlen=max_len)\n",
    "    \n",
    "    prediction = model.predict(padded_review)\n",
    "    \n",
    "    print(f'Prediction: {prediction[0][0]}')\n",
    "    print('Sentiment:', 'Positive' if prediction[0][0] > 0.5 else 'Negative')"
   ]
  },
  {
   "cell_type": "code",
   "execution_count": 13,
   "id": "f0a1d09a-b4f0-4f5b-8716-ca1a327619af",
   "metadata": {},
   "outputs": [
    {
     "name": "stdin",
     "output_type": "stream",
     "text": [
      "Enter your review:  This movie is utter nonsense, i cannot believe I wasted my money on this absolute stinker of a film. The script was stale and boring, the actors were subpar, this needs improvement!.\n"
     ]
    },
    {
     "name": "stdout",
     "output_type": "stream",
     "text": [
      "\u001b[1m1/1\u001b[0m \u001b[32m━━━━━━━━━━━━━━━━━━━━\u001b[0m\u001b[37m\u001b[0m \u001b[1m0s\u001b[0m 58ms/step\n",
      "Prediction: 0.19492556154727936\n",
      "Sentiment: Negative\n"
     ]
    }
   ],
   "source": [
    "predict_sentiment()"
   ]
  },
  {
   "cell_type": "code",
   "execution_count": 14,
   "id": "d410cc1c-edf4-459f-9347-ad7f761d585a",
   "metadata": {},
   "outputs": [
    {
     "name": "stdin",
     "output_type": "stream",
     "text": [
      "Enter your review:  The movie is opens with a great scene, and it continues to pull us inside the story and kept us lockedin, truly a great crime thriller.\n"
     ]
    },
    {
     "name": "stdout",
     "output_type": "stream",
     "text": [
      "\u001b[1m1/1\u001b[0m \u001b[32m━━━━━━━━━━━━━━━━━━━━\u001b[0m\u001b[37m\u001b[0m \u001b[1m0s\u001b[0m 27ms/step\n",
      "Prediction: 0.947913408279419\n",
      "Sentiment: Positive\n"
     ]
    }
   ],
   "source": [
    "predict_sentiment()"
   ]
  },
  {
   "cell_type": "markdown",
   "id": "5fe56690-b0c7-4c49-adf3-8778bb340c31",
   "metadata": {},
   "source": [
    "### Conclusion"
   ]
  },
  {
   "cell_type": "markdown",
   "id": "ffdfa31d-3e16-4ac4-a1d3-8661f2f66680",
   "metadata": {},
   "source": [
    "We were able to build a model which can predict the sentiment (binary) of the reviews with good accuracy, we can use the model for further review classification purposes."
   ]
  }
 ],
 "metadata": {
  "kernelspec": {
   "display_name": "Python 3 (ipykernel)",
   "language": "python",
   "name": "python3"
  },
  "language_info": {
   "codemirror_mode": {
    "name": "ipython",
    "version": 3
   },
   "file_extension": ".py",
   "mimetype": "text/x-python",
   "name": "python",
   "nbconvert_exporter": "python",
   "pygments_lexer": "ipython3",
   "version": "3.9.2rc1"
  }
 },
 "nbformat": 4,
 "nbformat_minor": 5
}
